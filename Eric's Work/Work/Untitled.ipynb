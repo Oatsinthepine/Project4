{
 "cells": [
  {
   "cell_type": "code",
   "execution_count": 1,
   "id": "12ffe8ce-69f9-403d-8be8-9395e0b89f8c",
   "metadata": {},
   "outputs": [],
   "source": [
    "import os\n",
    "import cv2\n",
    "import numpy as np\n",
    "import pandas as pd\n",
    "from tensorflow.keras.models import load_model\n",
    "from tensorflow.keras.preprocessing.image import img_to_array\n",
    "\n",
    "# Load your trained model\n",
    "model = load_model('improved_brain_tumor_detector.h5')\n"
   ]
  },
  {
   "cell_type": "code",
   "execution_count": 8,
   "id": "279876c2-dc30-40f0-9225-e9033d2a2c93",
   "metadata": {},
   "outputs": [],
   "source": [
    "# Paths to training and testing directories\n",
    "train_dir = r\"C:\\Users\\tadak\\OneDrive\\Desktop\\Data analysis\\work\\Challenge\\Project 4\\Project4\\Eric's Work\\Sample_BrainTumor_images\\Sample_BrainTumor_images\\Training\"\n",
    "test_dir = r\"C:\\Users\\tadak\\OneDrive\\Desktop\\Data analysis\\work\\Challenge\\Project 4\\Project4\\Eric's Work\\Sample_BrainTumor_images\\Sample_BrainTumor_images\\Testing\"\n",
    "\n",
    "# Updated categories with underscores\n",
    "categories = ['glioma_tumor', 'meningioma_tumor', 'no_tumor', 'pituitary_tumor']\n",
    "\n"
   ]
  },
  {
   "cell_type": "code",
   "execution_count": 9,
   "id": "34d12ba8-521a-4478-b549-7f119b34dbe3",
   "metadata": {},
   "outputs": [],
   "source": [
    "# Define a function to preprocess images and make predictions\n",
    "def process_and_predict_images(directory, model, categories):\n",
    "    results = []  # List to store prediction results\n",
    "    \n",
    "    IMG_SIZE = (128, 128)  # Size expected by the model\n",
    "    \n",
    "    # Loop through each category\n",
    "    for category in categories:\n",
    "        category_path = os.path.join(directory, category)\n",
    "        \n",
    "        # Check if the category folder exists\n",
    "        if not os.path.exists(category_path):\n",
    "            print(f\"Folder not found: {category_path}\")\n",
    "            continue  # Skip to the next category if folder is missing\n",
    "        \n",
    "        # Loop through each image in the category folder\n",
    "        for img_name in os.listdir(category_path):\n",
    "            img_path = os.path.join(category_path, img_name)\n",
    "            \n",
    "            # Load and preprocess the image\n",
    "            img = cv2.imread(img_path)\n",
    "            if img is None:\n",
    "                print(f\"Could not load image: {img_path}\")\n",
    "                continue\n",
    "            \n",
    "            img = cv2.resize(img, IMG_SIZE)\n",
    "            img = img_to_array(img) / 255.0\n",
    "            img = np.expand_dims(img, axis=0)  # Add batch dimension\n",
    "            \n",
    "            # Make prediction\n",
    "            prediction = model.predict(img)\n",
    "            predicted_label = \"Tumor detected\" if prediction > 0.5 else \"No tumor detected\"\n",
    "            \n",
    "            # Append results\n",
    "            results.append({\n",
    "                \"Filename\": img_name,\n",
    "                \"True Label\": category,\n",
    "                \"Predicted Label\": predicted_label,\n",
    "                \"Probability\": float(prediction)  # Model's prediction probability\n",
    "            })\n",
    "    "
   ]
  },
  {
   "cell_type": "code",
   "execution_count": null,
   "id": "cd242ce9-d1eb-48cd-b5b2-0c642b4a13d7",
   "metadata": {},
   "outputs": [
    {
     "name": "stdout",
     "output_type": "stream",
     "text": [
      "1/1 [==============================] - 0s 166ms/step\n",
      "1/1 [==============================] - 0s 17ms/step\n",
      "1/1 [==============================] - 0s 18ms/step\n"
     ]
    },
    {
     "name": "stderr",
     "output_type": "stream",
     "text": [
      "C:\\Users\\tadak\\AppData\\Local\\Temp\\ipykernel_53864\\229564377.py:39: DeprecationWarning: Conversion of an array with ndim > 0 to a scalar is deprecated, and will error in future. Ensure you extract a single element from your array before performing this operation. (Deprecated NumPy 1.25.)\n",
      "  \"Probability\": float(prediction)  # Model's prediction probability\n"
     ]
    },
    {
     "name": "stdout",
     "output_type": "stream",
     "text": [
      "1/1 [==============================] - 0s 19ms/step\n",
      "1/1 [==============================] - 0s 18ms/step\n",
      "1/1 [==============================] - 0s 21ms/step\n",
      "1/1 [==============================] - 0s 20ms/step\n",
      "1/1 [==============================] - 0s 19ms/step\n",
      "1/1 [==============================] - 0s 18ms/step\n",
      "1/1 [==============================] - 0s 20ms/step\n",
      "1/1 [==============================] - 0s 19ms/step\n",
      "1/1 [==============================] - 0s 18ms/step\n",
      "1/1 [==============================] - 0s 18ms/step\n",
      "1/1 [==============================] - 0s 19ms/step\n",
      "1/1 [==============================] - 0s 19ms/step\n",
      "1/1 [==============================] - 0s 18ms/step\n",
      "1/1 [==============================] - 0s 20ms/step\n",
      "1/1 [==============================] - 0s 20ms/step\n",
      "1/1 [==============================] - 0s 19ms/step\n",
      "1/1 [==============================] - 0s 19ms/step\n",
      "1/1 [==============================] - 0s 18ms/step\n",
      "1/1 [==============================] - 0s 18ms/step\n",
      "1/1 [==============================] - 0s 19ms/step\n",
      "1/1 [==============================] - 0s 19ms/step\n",
      "1/1 [==============================] - 0s 19ms/step\n",
      "1/1 [==============================] - 0s 19ms/step\n",
      "1/1 [==============================] - 0s 19ms/step\n",
      "1/1 [==============================] - 0s 19ms/step\n",
      "1/1 [==============================] - 0s 19ms/step\n",
      "1/1 [==============================] - 0s 19ms/step\n",
      "1/1 [==============================] - 0s 19ms/step\n",
      "1/1 [==============================] - 0s 18ms/step\n",
      "1/1 [==============================] - 0s 19ms/step\n",
      "1/1 [==============================] - 0s 18ms/step\n",
      "1/1 [==============================] - 0s 19ms/step\n",
      "1/1 [==============================] - 0s 20ms/step\n",
      "1/1 [==============================] - 0s 19ms/step\n",
      "1/1 [==============================] - 0s 19ms/step\n",
      "1/1 [==============================] - 0s 19ms/step\n",
      "1/1 [==============================] - 0s 17ms/step\n",
      "1/1 [==============================] - 0s 19ms/step\n",
      "1/1 [==============================] - 0s 19ms/step\n",
      "1/1 [==============================] - 0s 19ms/step\n",
      "1/1 [==============================] - ETA: 0s"
     ]
    }
   ],
   "source": [
    "train_results = process_and_predict_images(train_dir, model, categories)\n",
    "test_results = process_and_predict_images(test_dir, model, categories)"
   ]
  },
  {
   "cell_type": "code",
   "execution_count": null,
   "id": "102f1261-45b8-4dc4-884e-dc9d5f858a8c",
   "metadata": {},
   "outputs": [],
   "source": [
    "# Convert results to DataFrames\n",
    "train_results_df = pd.DataFrame(train_results)\n",
    "test_results_df = pd.DataFrame(test_results)\n",
    "\n",
    "# Save results to CSV files\n",
    "train_results_df.to_csv('train_predictions_log.csv', index=False)\n",
    "test_results_df.to_csv('test_predictions_log.csv', index=False)\n",
    "\n",
    "print(\"Training and testing results saved to CSV files.\")"
   ]
  }
 ],
 "metadata": {
  "kernelspec": {
   "display_name": "Python 3 (ipykernel)",
   "language": "python",
   "name": "python3"
  },
  "language_info": {
   "codemirror_mode": {
    "name": "ipython",
    "version": 3
   },
   "file_extension": ".py",
   "mimetype": "text/x-python",
   "name": "python",
   "nbconvert_exporter": "python",
   "pygments_lexer": "ipython3",
   "version": "3.10.13"
  }
 },
 "nbformat": 4,
 "nbformat_minor": 5
}
