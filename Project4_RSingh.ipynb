{
 "cells": [
  {
   "cell_type": "code",
   "execution_count": 20,
   "id": "f074b2b6-d6eb-4a02-be77-ff67b3393104",
   "metadata": {},
   "outputs": [],
   "source": [
    "# Import dependencies\n",
    "\n",
    "import os\n",
    "import numpy as np\n",
    "import pandas as pd\n",
    "import seaborn as sns\n",
    "import matplotlib.pyplot as plt\n",
    "\n",
    "import tensorflow as tf\n",
    "from tensorflow.keras.preprocessing.image import ImageDataGenerator\n",
    "from tensorflow.keras.models import Sequential\n",
    "from tensorflow.keras.layers import Conv2D, MaxPooling2D, Flatten, Dense, Dropout, Input\n",
    "from tensorflow.keras.models import load_model\n",
    "from tensorflow.keras.optimizers import Adam\n",
    "\n",
    "from sklearn.metrics import confusion_matrix, classification_report\n",
    "import os\n",
    "import tensorflow as tf\n",
    "from tensorflow.keras.preprocessing.image import ImageDataGenerator\n",
    "from tensorflow.keras.applications import ResNet50\n",
    "from tensorflow.keras.layers import Dense, Flatten, GlobalAveragePooling2D\n",
    "from tensorflow.keras.models import Model\n",
    "from tensorflow.keras.optimizers import Adam\n",
    "from sklearn.metrics import classification_report, confusion_matrix\n",
    "import matplotlib.pyplot as plt\n",
    "import numpy as np\n",
    "\n"
   ]
  },
  {
   "cell_type": "code",
   "execution_count": 21,
   "id": "80d02a24-a093-404f-b81a-352915c183a1",
   "metadata": {},
   "outputs": [],
   "source": [
    "# Set the path to the dataset\n",
    "dataset_path = \"Dataset\"\n",
    "\n",
    "# Define the training and testing directories\n",
    "train_dir = os.path.join(dataset_path, \"Training\")\n",
    "test_dir = os.path.join(dataset_path, \"Testing\")"
   ]
  },
  {
   "cell_type": "code",
   "execution_count": 22,
   "id": "7230d905-641a-40be-a086-03bc48229fab",
   "metadata": {},
   "outputs": [
    {
     "name": "stdout",
     "output_type": "stream",
     "text": [
      "Training directory contents:\n",
      "Folder Name: no_tumor\n",
      "Number of Files: 395\n",
      "------------------------\n",
      "Folder Name: meningioma_tumor\n",
      "Number of Files: 822\n",
      "------------------------\n",
      "Folder Name: glioma_tumor\n",
      "Number of Files: 826\n",
      "------------------------\n",
      "Folder Name: pituitary_tumor\n",
      "Number of Files: 827\n",
      "------------------------\n",
      "\n",
      "Testing directory contents:\n",
      "Folder Name: no_tumor\n",
      "Number of Files: 105\n",
      "------------------------\n",
      "Folder Name: meningioma_tumor\n",
      "Number of Files: 115\n",
      "------------------------\n",
      "Folder Name: glioma_tumor\n",
      "Number of Files: 100\n",
      "------------------------\n",
      "Folder Name: pituitary_tumor\n",
      "Number of Files: 74\n",
      "------------------------\n"
     ]
    }
   ],
   "source": [
    "# Print the content of the training directory\n",
    "# Print the content of the training directory\n",
    "print(\"Training directory contents:\")\n",
    "for folder in os.listdir(train_dir):\n",
    "    folder_path = os.path.join(train_dir, folder)\n",
    "    \n",
    "    # Check if it's a directory\n",
    "    if os.path.isdir(folder_path):\n",
    "        num_files = len(os.listdir(folder_path))\n",
    "        print(f\"Folder Name: {folder}\")\n",
    "        print(f\"Number of Files: {num_files}\")\n",
    "        print(\"------------------------\")\n",
    "\n",
    "# Print the content of the testing directory\n",
    "print(\"\\nTesting directory contents:\")\n",
    "for folder in os.listdir(train_dir):\n",
    "    folder_path = os.path.join(test_dir, folder)\n",
    "    \n",
    "    # Check if it's a directory\n",
    "    if os.path.isdir(folder_path):\n",
    "        num_files = len(os.listdir(folder_path))\n",
    "        print(f\"Folder Name: {folder}\")\n",
    "        print(f\"Number of Files: {num_files}\")\n",
    "        print(\"------------------------\")"
   ]
  },
  {
   "cell_type": "code",
   "execution_count": 23,
   "id": "c5a2ef34-1a47-444f-89ae-a41ad51b52d0",
   "metadata": {},
   "outputs": [],
   "source": [
    "# Define necessary variables\n",
    "\n",
    "# # Set the image size\n",
    "# image_size = (224, 224)\n",
    "\n",
    "# # Set the batch size for training\n",
    "# batch_size = 32\n",
    "\n",
    "# # Set the number of epochs for training\n",
    "# epochs = 50\n",
    "\n",
    "# # Define the categories\n",
    "# categories = [\"glioma_tumor\", \"meningioma_tumor\", \"no_tumor\", \"pituitary_tumor\"]\n",
    "\n",
    "\n",
    "# Paths to the dataset\n",
    "train_dir = \"Dataset/Training\"\n",
    "test_dir = \"Dataset/Testing\"\n",
    "\n",
    "# Hyperparameters\n",
    "IMAGE_SIZE = (224, 224)  # ResNet50 standard size\n",
    "BATCH_SIZE = 32\n",
    "NUM_CLASSES = 4  # Number of classes in your dataset\n",
    "EPOCHS = 25\n",
    "LEARNING_RATE = 0.0001\n",
    "\n"
   ]
  },
  {
   "cell_type": "code",
   "execution_count": 24,
   "id": "6eabc27a-ca5f-4d4a-90e0-de32308fbe4d",
   "metadata": {},
   "outputs": [
    {
     "name": "stdout",
     "output_type": "stream",
     "text": [
      "Found 2297 images belonging to 4 classes.\n",
      "Found 573 images belonging to 4 classes.\n",
      "Found 394 images belonging to 4 classes.\n"
     ]
    }
   ],
   "source": [
    "# Data generators for training and validation/testing datasets\n",
    "train_datagen = ImageDataGenerator(rescale=1./255, validation_split=0.2)\n",
    "test_datagen = ImageDataGenerator(rescale=1./255)\n",
    "\n",
    "# Load training data with validation split\n",
    "train_data = train_datagen.flow_from_directory(\n",
    "    train_dir,\n",
    "    target_size=IMAGE_SIZE,\n",
    "    batch_size=BATCH_SIZE,\n",
    "    class_mode='categorical',\n",
    "    subset='training'\n",
    ")\n",
    "\n",
    "val_data = train_datagen.flow_from_directory(\n",
    "    train_dir,\n",
    "    target_size=IMAGE_SIZE,\n",
    "    batch_size=BATCH_SIZE,\n",
    "    class_mode='categorical',\n",
    "    subset='validation'\n",
    ")\n",
    "\n",
    "# Load testing data\n",
    "test_data = test_datagen.flow_from_directory(\n",
    "    test_dir,\n",
    "    target_size=IMAGE_SIZE,\n",
    "    batch_size=BATCH_SIZE,\n",
    "    class_mode='categorical',\n",
    "    shuffle=False\n",
    ")\n"
   ]
  },
  {
   "cell_type": "code",
   "execution_count": 25,
   "id": "efa65248-8180-42cc-9608-6797c957bfcd",
   "metadata": {},
   "outputs": [
    {
     "name": "stderr",
     "output_type": "stream",
     "text": [
      "WARNING:absl:At this time, the v2.11+ optimizer `tf.keras.optimizers.Adam` runs slowly on M1/M2 Macs, please use the legacy Keras optimizer instead, located at `tf.keras.optimizers.legacy.Adam`.\n",
      "WARNING:absl:There is a known slowdown when using v2.11+ Keras optimizers on M1/M2 Macs. Falling back to the legacy Keras optimizer, i.e., `tf.keras.optimizers.legacy.Adam`.\n"
     ]
    },
    {
     "name": "stdout",
     "output_type": "stream",
     "text": [
      "Model: \"sequential\"\n",
      "_________________________________________________________________\n",
      " Layer (type)                Output Shape              Param #   \n",
      "=================================================================\n",
      " resnet50 (Functional)       (None, 7, 7, 2048)        23587712  \n",
      "                                                                 \n",
      " flatten (Flatten)           (None, 100352)            0         \n",
      "                                                                 \n",
      " dense_2 (Dense)             (None, 256)               25690368  \n",
      "                                                                 \n",
      " dropout (Dropout)           (None, 256)               0         \n",
      "                                                                 \n",
      " dense_3 (Dense)             (None, 4)                 1028      \n",
      "                                                                 \n",
      "=================================================================\n",
      "Total params: 49,279,108\n",
      "Trainable params: 25,691,396\n",
      "Non-trainable params: 23,587,712\n",
      "_________________________________________________________________\n"
     ]
    }
   ],
   "source": [
    "# Load the ResNet50 model without the top layer\n",
    "base_model = ResNet50(weights='imagenet', include_top=False, input_shape=(224, 224, 3))\n",
    "\n",
    "# Adding custom layers on top of ResNet50\n",
    "x = base_model.output\n",
    "x = GlobalAveragePooling2D()(x)\n",
    "x = Dense(128, activation='relu')(x)  # Custom dense layer\n",
    "output = Dense(NUM_CLASSES, activation='softmax')(x)  # Output layer\n",
    "\n",
    "\n",
    "# Freeze the base_model layers to avoid training them initially\n",
    "for layer in base_model.layers:\n",
    "    layer.trainable = False\n",
    "\n",
    "# Final model\n",
    "# model = Model(inputs=base_model.input, outputs=output)\n",
    "\n",
    "# Build the full model\n",
    "model = Sequential([\n",
    "    base_model,               \n",
    "    Flatten(),                \n",
    "    Dense(256, activation='relu'),  \n",
    "    Dropout(0.5),             # Dropout to prevent overfitting\n",
    "    Dense(4, activation='softmax')  # Output layer for 4 brain tumor classes\n",
    "])\n",
    "\n",
    "# Compile the model\n",
    "model.compile(optimizer=Adam(LEARNING_RATE),\n",
    "              loss='categorical_crossentropy',\n",
    "              metrics=['accuracy'])\n",
    "\n",
    "# Model summary\n",
    "model.summary()\n"
   ]
  },
  {
   "cell_type": "code",
   "execution_count": 28,
   "id": "912c4bad-0edd-41f3-a5ff-6d2b73a4783b",
   "metadata": {},
   "outputs": [],
   "source": [
    "from keras.callbacks import EarlyStopping\n",
    "# Define the EarlyStopping callback\n",
    "early_stopping = EarlyStopping(\n",
    "    monitor='val_loss',    # Metric to monitor (you can change to 'val_accuracy')\n",
    "    patience=3,            # Number of epochs with no improvement before stopping\n",
    "    restore_best_weights=True  # Restore the best model's weights after stopping\n",
    ")"
   ]
  },
  {
   "cell_type": "code",
   "execution_count": 29,
   "id": "377256f0-2b06-408c-805f-80b26ce562b0",
   "metadata": {},
   "outputs": [
    {
     "name": "stdout",
     "output_type": "stream",
     "text": [
      "Epoch 1/25\n"
     ]
    },
    {
     "name": "stderr",
     "output_type": "stream",
     "text": [
      "2024-10-27 01:34:09.717501: I tensorflow/core/common_runtime/executor.cc:1197] [/device:CPU:0] (DEBUG INFO) Executor start aborting (this does not indicate an error and you can ignore this message): INVALID_ARGUMENT: You must feed a value for placeholder tensor 'Placeholder/_0' with dtype int32\n",
      "\t [[{{node Placeholder/_0}}]]\n",
      "2024-10-27 01:34:09.728727: W tensorflow/tsl/platform/profile_utils/cpu_utils.cc:128] Failed to get CPU frequency: 0 Hz\n"
     ]
    },
    {
     "name": "stdout",
     "output_type": "stream",
     "text": [
      "71/71 [==============================] - ETA: 0s - loss: 1.4188 - accuracy: 0.4296"
     ]
    },
    {
     "name": "stderr",
     "output_type": "stream",
     "text": [
      "2024-10-27 01:35:12.503699: I tensorflow/core/common_runtime/executor.cc:1197] [/device:CPU:0] (DEBUG INFO) Executor start aborting (this does not indicate an error and you can ignore this message): INVALID_ARGUMENT: You must feed a value for placeholder tensor 'Placeholder/_0' with dtype int32\n",
      "\t [[{{node Placeholder/_0}}]]\n"
     ]
    },
    {
     "name": "stdout",
     "output_type": "stream",
     "text": [
      "71/71 [==============================] - 77s 1s/step - loss: 1.4188 - accuracy: 0.4296 - val_loss: 1.1977 - val_accuracy: 0.4191\n",
      "Epoch 2/25\n",
      "71/71 [==============================] - 74s 1s/step - loss: 1.0813 - accuracy: 0.5294 - val_loss: 1.1422 - val_accuracy: 0.4467\n",
      "Epoch 3/25\n",
      "71/71 [==============================] - 73s 1s/step - loss: 1.0044 - accuracy: 0.5704 - val_loss: 1.1553 - val_accuracy: 0.3952\n",
      "Epoch 4/25\n",
      "71/71 [==============================] - 81s 1s/step - loss: 0.9792 - accuracy: 0.5987 - val_loss: 1.0721 - val_accuracy: 0.5184\n",
      "Epoch 5/25\n",
      "71/71 [==============================] - 70s 990ms/step - loss: 0.9210 - accuracy: 0.6159 - val_loss: 1.0850 - val_accuracy: 0.4982\n",
      "Epoch 6/25\n",
      "71/71 [==============================] - 77s 1s/step - loss: 0.8795 - accuracy: 0.6380 - val_loss: 1.0754 - val_accuracy: 0.4945\n",
      "Epoch 7/25\n",
      "71/71 [==============================] - 70s 980ms/step - loss: 0.8560 - accuracy: 0.6468 - val_loss: 1.0431 - val_accuracy: 0.4632\n",
      "Epoch 8/25\n",
      "71/71 [==============================] - 72s 1s/step - loss: 0.8688 - accuracy: 0.6344 - val_loss: 1.0685 - val_accuracy: 0.4761\n",
      "Epoch 9/25\n",
      "71/71 [==============================] - 72s 1s/step - loss: 0.8223 - accuracy: 0.6552 - val_loss: 1.0491 - val_accuracy: 0.5368\n",
      "Epoch 10/25\n",
      "71/71 [==============================] - 71s 1s/step - loss: 0.8041 - accuracy: 0.6667 - val_loss: 1.0186 - val_accuracy: 0.5037\n",
      "Epoch 11/25\n",
      "71/71 [==============================] - 97s 1s/step - loss: 0.7976 - accuracy: 0.6742 - val_loss: 0.9996 - val_accuracy: 0.5239\n",
      "Epoch 12/25\n",
      "71/71 [==============================] - 84s 1s/step - loss: 0.8002 - accuracy: 0.6711 - val_loss: 1.0070 - val_accuracy: 0.5037\n",
      "Epoch 13/25\n",
      "71/71 [==============================] - 76s 1s/step - loss: 0.7679 - accuracy: 0.6733 - val_loss: 1.0177 - val_accuracy: 0.5404\n",
      "Epoch 14/25\n",
      "71/71 [==============================] - 74s 1s/step - loss: 0.7613 - accuracy: 0.6993 - val_loss: 0.9683 - val_accuracy: 0.5294\n",
      "Epoch 15/25\n",
      "71/71 [==============================] - 96s 1s/step - loss: 0.7468 - accuracy: 0.6887 - val_loss: 0.9971 - val_accuracy: 0.5607\n",
      "Epoch 16/25\n",
      "71/71 [==============================] - 150s 2s/step - loss: 0.7280 - accuracy: 0.7029 - val_loss: 1.0091 - val_accuracy: 0.5184\n",
      "Epoch 17/25\n",
      "71/71 [==============================] - 144s 2s/step - loss: 0.7254 - accuracy: 0.6958 - val_loss: 1.0146 - val_accuracy: 0.5496\n"
     ]
    }
   ],
   "source": [
    "# Train the model\n",
    "history = model.fit(\n",
    "    train_data,\n",
    "    validation_data=val_data,\n",
    "    epochs=EPOCHS,\n",
    "    steps_per_epoch=train_data.samples // BATCH_SIZE,\n",
    "    validation_steps=val_data.samples // BATCH_SIZE,\n",
    "    callbacks=[early_stopping]\n",
    ")\n",
    "\n",
    "\n",
    "# history = model.fit(\n",
    "#     train_data,\n",
    "#     validation_data=test_data,\n",
    "#     epochs=30,\n",
    "#     callbacks=[early_stopping]\n",
    "# )"
   ]
  },
  {
   "cell_type": "markdown",
   "id": "7022654f-f68c-4fae-944f-be2a2b27455e",
   "metadata": {},
   "source": [
    "#### Observations:\n",
    "### Epoch Time: Epoch time varies between 70s to 150s.\n",
    "### Loss: Training loss decreases from 1.4188 to 0.7254 (48.8% reduction).\n",
    "### Accuracy: Training accuracy increases from 42.96% to 69.58% (26.62% improvement).\n",
    "### Validation Loss: Validation loss decreases from 1.1977 to 1.0146 (15.3% reduction).\n",
    "### Validation Accuracy: Validation accuracy increases from 41.91% to 54.96% (13.05% improvement).\n"
   ]
  },
  {
   "cell_type": "code",
   "execution_count": 32,
   "id": "abccd2b7-6565-43ca-8a41-8e7f94e518da",
   "metadata": {},
   "outputs": [
    {
     "name": "stderr",
     "output_type": "stream",
     "text": [
      "2024-10-27 17:29:51.169694: I tensorflow/core/common_runtime/executor.cc:1197] [/device:CPU:0] (DEBUG INFO) Executor start aborting (this does not indicate an error and you can ignore this message): INVALID_ARGUMENT: You must feed a value for placeholder tensor 'Placeholder/_0' with dtype int32\n",
      "\t [[{{node Placeholder/_0}}]]\n"
     ]
    },
    {
     "name": "stdout",
     "output_type": "stream",
     "text": [
      "13/13 [==============================] - 11s 873ms/step - loss: 2.1742 - accuracy: 0.4188\n",
      "Test Loss: 2.1741838455200195\n",
      "Test Accuracy: 41.88%\n"
     ]
    }
   ],
   "source": [
    "# Evaluate the model on the test data\n",
    "test_loss, test_acc = model.evaluate(test_data)\n",
    "\n",
    "print(f\"Test Loss: {test_loss}\")\n",
    "print(f\"Test Accuracy: {test_acc * 100:.2f}%\")\n"
   ]
  },
  {
   "cell_type": "code",
   "execution_count": 33,
   "id": "4822ea89-8be3-4c8d-ad7d-11e8375e7572",
   "metadata": {},
   "outputs": [
    {
     "name": "stderr",
     "output_type": "stream",
     "text": [
      "2024-10-27 17:30:29.422777: I tensorflow/core/common_runtime/executor.cc:1197] [/device:CPU:0] (DEBUG INFO) Executor start aborting (this does not indicate an error and you can ignore this message): INVALID_ARGUMENT: You must feed a value for placeholder tensor 'Placeholder/_0' with dtype int32\n",
      "\t [[{{node Placeholder/_0}}]]\n"
     ]
    },
    {
     "name": "stdout",
     "output_type": "stream",
     "text": [
      "13/13 [==============================] - 11s 858ms/step\n",
      "Classification Report\n",
      "                  precision    recall  f1-score   support\n",
      "\n",
      "    glioma_tumor       0.31      0.19      0.24       100\n",
      "meningioma_tumor       0.51      0.53      0.52       115\n",
      "        no_tumor       0.43      0.46      0.44       105\n",
      " pituitary_tumor       0.36      0.50      0.42        74\n",
      "\n",
      "        accuracy                           0.42       394\n",
      "       macro avg       0.40      0.42      0.41       394\n",
      "    weighted avg       0.41      0.42      0.41       394\n",
      "\n"
     ]
    }
   ],
   "source": [
    "# Predictions and classification report\n",
    "Y_pred = model.predict(test_data)\n",
    "y_pred = np.argmax(Y_pred, axis=1)\n",
    "\n",
    "# Classification report\n",
    "print('Classification Report')\n",
    "print(classification_report(test_data.classes, y_pred, target_names=list(test_data.class_indices.keys())))"
   ]
  },
  {
   "cell_type": "code",
   "execution_count": 34,
   "id": "a5e4e7d7-0dd7-4c3d-9ab4-763174e52e9c",
   "metadata": {},
   "outputs": [
    {
     "data": {
      "text/html": [
       "<div>\n",
       "<style scoped>\n",
       "    .dataframe tbody tr th:only-of-type {\n",
       "        vertical-align: middle;\n",
       "    }\n",
       "\n",
       "    .dataframe tbody tr th {\n",
       "        vertical-align: top;\n",
       "    }\n",
       "\n",
       "    .dataframe thead th {\n",
       "        text-align: right;\n",
       "    }\n",
       "</style>\n",
       "<table border=\"1\" class=\"dataframe\">\n",
       "  <thead>\n",
       "    <tr style=\"text-align: right;\">\n",
       "      <th></th>\n",
       "      <th>loss</th>\n",
       "      <th>accuracy</th>\n",
       "      <th>val_loss</th>\n",
       "      <th>val_accuracy</th>\n",
       "    </tr>\n",
       "  </thead>\n",
       "  <tbody>\n",
       "    <tr>\n",
       "      <th>0</th>\n",
       "      <td>1.418840</td>\n",
       "      <td>0.429581</td>\n",
       "      <td>1.197654</td>\n",
       "      <td>0.419118</td>\n",
       "    </tr>\n",
       "    <tr>\n",
       "      <th>1</th>\n",
       "      <td>1.081297</td>\n",
       "      <td>0.529360</td>\n",
       "      <td>1.142223</td>\n",
       "      <td>0.446691</td>\n",
       "    </tr>\n",
       "    <tr>\n",
       "      <th>2</th>\n",
       "      <td>1.004372</td>\n",
       "      <td>0.570419</td>\n",
       "      <td>1.155254</td>\n",
       "      <td>0.395221</td>\n",
       "    </tr>\n",
       "    <tr>\n",
       "      <th>3</th>\n",
       "      <td>0.979232</td>\n",
       "      <td>0.598675</td>\n",
       "      <td>1.072055</td>\n",
       "      <td>0.518382</td>\n",
       "    </tr>\n",
       "    <tr>\n",
       "      <th>4</th>\n",
       "      <td>0.921003</td>\n",
       "      <td>0.615894</td>\n",
       "      <td>1.085039</td>\n",
       "      <td>0.498162</td>\n",
       "    </tr>\n",
       "    <tr>\n",
       "      <th>5</th>\n",
       "      <td>0.879495</td>\n",
       "      <td>0.637969</td>\n",
       "      <td>1.075401</td>\n",
       "      <td>0.494485</td>\n",
       "    </tr>\n",
       "    <tr>\n",
       "      <th>6</th>\n",
       "      <td>0.856020</td>\n",
       "      <td>0.646799</td>\n",
       "      <td>1.043104</td>\n",
       "      <td>0.463235</td>\n",
       "    </tr>\n",
       "    <tr>\n",
       "      <th>7</th>\n",
       "      <td>0.868813</td>\n",
       "      <td>0.634437</td>\n",
       "      <td>1.068450</td>\n",
       "      <td>0.476103</td>\n",
       "    </tr>\n",
       "    <tr>\n",
       "      <th>8</th>\n",
       "      <td>0.822336</td>\n",
       "      <td>0.655188</td>\n",
       "      <td>1.049083</td>\n",
       "      <td>0.536765</td>\n",
       "    </tr>\n",
       "    <tr>\n",
       "      <th>9</th>\n",
       "      <td>0.804068</td>\n",
       "      <td>0.666667</td>\n",
       "      <td>1.018616</td>\n",
       "      <td>0.503676</td>\n",
       "    </tr>\n",
       "    <tr>\n",
       "      <th>10</th>\n",
       "      <td>0.797616</td>\n",
       "      <td>0.674172</td>\n",
       "      <td>0.999599</td>\n",
       "      <td>0.523897</td>\n",
       "    </tr>\n",
       "    <tr>\n",
       "      <th>11</th>\n",
       "      <td>0.800177</td>\n",
       "      <td>0.671082</td>\n",
       "      <td>1.006986</td>\n",
       "      <td>0.503676</td>\n",
       "    </tr>\n",
       "    <tr>\n",
       "      <th>12</th>\n",
       "      <td>0.767936</td>\n",
       "      <td>0.673289</td>\n",
       "      <td>1.017709</td>\n",
       "      <td>0.540441</td>\n",
       "    </tr>\n",
       "    <tr>\n",
       "      <th>13</th>\n",
       "      <td>0.761263</td>\n",
       "      <td>0.699338</td>\n",
       "      <td>0.968304</td>\n",
       "      <td>0.529412</td>\n",
       "    </tr>\n",
       "    <tr>\n",
       "      <th>14</th>\n",
       "      <td>0.746769</td>\n",
       "      <td>0.688742</td>\n",
       "      <td>0.997111</td>\n",
       "      <td>0.560662</td>\n",
       "    </tr>\n",
       "    <tr>\n",
       "      <th>15</th>\n",
       "      <td>0.728047</td>\n",
       "      <td>0.702870</td>\n",
       "      <td>1.009108</td>\n",
       "      <td>0.518382</td>\n",
       "    </tr>\n",
       "    <tr>\n",
       "      <th>16</th>\n",
       "      <td>0.725386</td>\n",
       "      <td>0.695806</td>\n",
       "      <td>1.014561</td>\n",
       "      <td>0.549632</td>\n",
       "    </tr>\n",
       "  </tbody>\n",
       "</table>\n",
       "</div>"
      ],
      "text/plain": [
       "        loss  accuracy  val_loss  val_accuracy\n",
       "0   1.418840  0.429581  1.197654      0.419118\n",
       "1   1.081297  0.529360  1.142223      0.446691\n",
       "2   1.004372  0.570419  1.155254      0.395221\n",
       "3   0.979232  0.598675  1.072055      0.518382\n",
       "4   0.921003  0.615894  1.085039      0.498162\n",
       "5   0.879495  0.637969  1.075401      0.494485\n",
       "6   0.856020  0.646799  1.043104      0.463235\n",
       "7   0.868813  0.634437  1.068450      0.476103\n",
       "8   0.822336  0.655188  1.049083      0.536765\n",
       "9   0.804068  0.666667  1.018616      0.503676\n",
       "10  0.797616  0.674172  0.999599      0.523897\n",
       "11  0.800177  0.671082  1.006986      0.503676\n",
       "12  0.767936  0.673289  1.017709      0.540441\n",
       "13  0.761263  0.699338  0.968304      0.529412\n",
       "14  0.746769  0.688742  0.997111      0.560662\n",
       "15  0.728047  0.702870  1.009108      0.518382\n",
       "16  0.725386  0.695806  1.014561      0.549632"
      ]
     },
     "execution_count": 34,
     "metadata": {},
     "output_type": "execute_result"
    }
   ],
   "source": [
    "# convert training history to data frame\n",
    "h_df = pd.DataFrame(history.history)\n",
    "h_df"
   ]
  },
  {
   "cell_type": "code",
   "execution_count": 36,
   "id": "8423f2e5-3c82-4540-a824-a7252cfbde92",
   "metadata": {},
   "outputs": [
    {
     "data": {
      "image/png": "[encoded data removed]",
      "text/plain": [
       "<Figure size 1000x600 with 2 Axes>"
      ]
     },
     "metadata": {},
     "output_type": "display_data"
    }
   ],
   "source": [
    "# Plot accuracy and loss\n",
    "fig, ax = plt.subplots(1, 2, figsize=(10, 6))\n",
    "\n",
    "# Accuracy plot\n",
    "plt.subplot(1, 2, 1)\n",
    "plt.plot(history.history['accuracy'], label='Training Accuracy')\n",
    "plt.plot(history.history['val_accuracy'], label='Validation Accuracy')\n",
    "plt.xlabel('Epochs')\n",
    "plt.ylabel('Accuracy')\n",
    "plt.legend()\n",
    "plt.title('Accuracy Over Epochs')\n",
    "\n",
    "# Loss plot\n",
    "plt.subplot(1, 2, 2)\n",
    "plt.plot(history.history['loss'], label='Training Loss')\n",
    "plt.plot(history.history['val_loss'], label='Validation Loss')\n",
    "plt.xlabel('Epochs')\n",
    "plt.ylabel('Loss')\n",
    "plt.legend()\n",
    "plt.title('Loss Over Epochs')\n",
    "\n",
    "plt.tight_layout()\n",
    "plt.show()"
   ]
  },
  {
   "cell_type": "code",
   "execution_count": 46,
   "id": "58590a03-8449-4544-b4b8-4be443f4c871",
   "metadata": {},
   "outputs": [],
   "source": [
    "\n",
    "# Save the history record to csv\n",
    "h_df.to_csv('./TrainingHistory/h_df.csv', index=False, header = True)"
   ]
  },
  {
   "cell_type": "code",
   "execution_count": 47,
   "id": "3d51af33-9f83-4bde-8209-619895d51bd1",
   "metadata": {},
   "outputs": [],
   "source": [
    "# save the entire model as .h5 file\n",
    "model.save('./ModelHistory/ccn_resnet50_model_history.h5')"
   ]
  },
  {
   "cell_type": "markdown",
   "id": "fd370227-4ca2-4c4c-9b16-c9a0e20daa04",
   "metadata": {},
   "source": [
    "##### Model optimisations Methods\n",
    "\n",
    "#### Model Optimisation Method 1 \n",
    "#####  Use Data augmentation \n",
    "\n"
   ]
  },
  {
   "cell_type": "code",
   "execution_count": 52,
   "id": "59956533-b7f1-4d36-a62e-d79d186ca50f",
   "metadata": {},
   "outputs": [
    {
     "name": "stdout",
     "output_type": "stream",
     "text": [
      "Model: \"sequential\"\n",
      "_________________________________________________________________\n",
      " Layer (type)                Output Shape              Param #   \n",
      "=================================================================\n",
      " resnet50 (Functional)       (None, 7, 7, 2048)        23587712  \n",
      "                                                                 \n",
      " flatten (Flatten)           (None, 100352)            0         \n",
      "                                                                 \n",
      " dense_2 (Dense)             (None, 256)               25690368  \n",
      "                                                                 \n",
      " dropout (Dropout)           (None, 256)               0         \n",
      "                                                                 \n",
      " dense_3 (Dense)             (None, 4)                 1028      \n",
      "                                                                 \n",
      "=================================================================\n",
      "Total params: 49,279,108\n",
      "Trainable params: 25,691,396\n",
      "Non-trainable params: 23,587,712\n",
      "_________________________________________________________________\n"
     ]
    }
   ],
   "source": [
    "# Load the saved model\n",
    "loaded_model_opt1 = load_model('./ModelHistory/ccn_resnet50_model_history.h5')\n",
    "loaded_model_opt1.summary()"
   ]
  },
  {
   "cell_type": "code",
   "execution_count": 53,
   "id": "b7005d0d-a26f-427f-b0fd-097e54c16eba",
   "metadata": {},
   "outputs": [],
   "source": [
    "# Define the dataset paths\n",
    "dataset_path = \"Dataset\"\n",
    "train_dir = os.path.join(dataset_path, \"Training\")\n",
    "test_dir = os.path.join(dataset_path, \"Testing\")\n",
    "\n",
    "# Define data augmentation parameters\n",
    "IMAGE_SIZE = (224, 224)\n",
    "BATCH_SIZE = 32"
   ]
  },
  {
   "cell_type": "code",
   "execution_count": 54,
   "id": "d24b87c4-15d0-4d92-8313-4fc913868eff",
   "metadata": {},
   "outputs": [
    {
     "name": "stdout",
     "output_type": "stream",
     "text": [
      "Found 2297 images belonging to 4 classes.\n",
      "Found 573 images belonging to 4 classes.\n",
      "Found 394 images belonging to 4 classes.\n"
     ]
    }
   ],
   "source": [
    "# Data augmentation for training dataset\n",
    "train_datagen_opt1 = ImageDataGenerator(\n",
    "    rescale=1./255,\n",
    "    rotation_range=30,\n",
    "    width_shift_range=0.2,\n",
    "    height_shift_range=0.2,\n",
    "    shear_range=0.2,\n",
    "    zoom_range=0.2,\n",
    "    horizontal_flip=True,\n",
    "    validation_split=0.2\n",
    ")\n",
    "\n",
    "\n",
    "# Load training data with validation split\n",
    "train_data_opt1 = train_datagen_opt1.flow_from_directory(\n",
    "    train_dir,\n",
    "    target_size=IMAGE_SIZE,\n",
    "    batch_size=BATCH_SIZE,\n",
    "    class_mode='categorical',\n",
    "    subset='training'\n",
    ")\n",
    "\n",
    "val_data_opt1 = train_datagen_opt1.flow_from_directory(\n",
    "    train_dir,\n",
    "    target_size=IMAGE_SIZE,\n",
    "    batch_size=BATCH_SIZE,\n",
    "    class_mode='categorical',\n",
    "    subset='validation'\n",
    ")\n",
    "\n",
    "# Data augmentation for testing dataset\n",
    "test_datagen_opt1 = ImageDataGenerator(rescale=1./255)\n",
    "\n",
    "# Load testing data\n",
    "test_data = test_datagen_opt1.flow_from_directory(\n",
    "    test_dir,\n",
    "    target_size=IMAGE_SIZE,\n",
    "    batch_size=BATCH_SIZE,\n",
    "    class_mode='categorical',\n",
    "    shuffle=False\n",
    ")\n"
   ]
  },
  {
   "cell_type": "code",
   "execution_count": 55,
   "id": "25bfd55b-d9a9-4e59-a3a7-fc4c902a7f65",
   "metadata": {},
   "outputs": [
    {
     "name": "stderr",
     "output_type": "stream",
     "text": [
      "WARNING:absl:At this time, the v2.11+ optimizer `tf.keras.optimizers.Adam` runs slowly on M1/M2 Macs, please use the legacy Keras optimizer instead, located at `tf.keras.optimizers.legacy.Adam`.\n",
      "WARNING:absl:There is a known slowdown when using v2.11+ Keras optimizers on M1/M2 Macs. Falling back to the legacy Keras optimizer, i.e., `tf.keras.optimizers.legacy.Adam`.\n"
     ]
    }
   ],
   "source": [
    "# Compile the loaded model with data augmentation\n",
    "loaded_model_opt1.compile(optimizer=Adam(1e-4),\n",
    "              loss='categorical_crossentropy',\n",
    "              metrics=['accuracy'])"
   ]
  },
  {
   "cell_type": "code",
   "execution_count": 56,
   "id": "4a23004a-916e-4aaf-840e-66f93086c8d7",
   "metadata": {},
   "outputs": [
    {
     "name": "stdout",
     "output_type": "stream",
     "text": [
      "Model: \"sequential\"\n",
      "_________________________________________________________________\n",
      " Layer (type)                Output Shape              Param #   \n",
      "=================================================================\n",
      " resnet50 (Functional)       (None, 7, 7, 2048)        23587712  \n",
      "                                                                 \n",
      " flatten (Flatten)           (None, 100352)            0         \n",
      "                                                                 \n",
      " dense_2 (Dense)             (None, 256)               25690368  \n",
      "                                                                 \n",
      " dropout (Dropout)           (None, 256)               0         \n",
      "                                                                 \n",
      " dense_3 (Dense)             (None, 4)                 1028      \n",
      "                                                                 \n",
      "=================================================================\n",
      "Total params: 49,279,108\n",
      "Trainable params: 25,691,396\n",
      "Non-trainable params: 23,587,712\n",
      "_________________________________________________________________\n"
     ]
    }
   ],
   "source": [
    "loaded_model_opt1.summary()"
   ]
  },
  {
   "cell_type": "code",
   "execution_count": 57,
   "id": "564769b8-4c78-4c2e-ada2-57be377518ed",
   "metadata": {},
   "outputs": [
    {
     "name": "stdout",
     "output_type": "stream",
     "text": [
      "Epoch 1/10\n"
     ]
    },
    {
     "name": "stderr",
     "output_type": "stream",
     "text": [
      "2024-10-27 18:13:45.691251: I tensorflow/core/common_runtime/executor.cc:1197] [/device:CPU:0] (DEBUG INFO) Executor start aborting (this does not indicate an error and you can ignore this message): INVALID_ARGUMENT: You must feed a value for placeholder tensor 'Placeholder/_0' with dtype int32\n",
      "\t [[{{node Placeholder/_0}}]]\n"
     ]
    },
    {
     "name": "stdout",
     "output_type": "stream",
     "text": [
      "71/71 [==============================] - ETA: 0s - loss: 1.2076 - accuracy: 0.4327"
     ]
    },
    {
     "name": "stderr",
     "output_type": "stream",
     "text": [
      "2024-10-27 18:14:44.612288: I tensorflow/core/common_runtime/executor.cc:1197] [/device:CPU:0] (DEBUG INFO) Executor start aborting (this does not indicate an error and you can ignore this message): INVALID_ARGUMENT: You must feed a value for placeholder tensor 'Placeholder/_0' with dtype int32\n",
      "\t [[{{node Placeholder/_0}}]]\n"
     ]
    },
    {
     "name": "stdout",
     "output_type": "stream",
     "text": [
      "71/71 [==============================] - 74s 1s/step - loss: 1.2076 - accuracy: 0.4327 - val_loss: 1.2583 - val_accuracy: 0.3787\n",
      "Epoch 2/10\n",
      "71/71 [==============================] - 72s 1s/step - loss: 1.1968 - accuracy: 0.4322 - val_loss: 1.2811 - val_accuracy: 0.3824\n",
      "Epoch 3/10\n",
      "71/71 [==============================] - 71s 1s/step - loss: 1.1746 - accuracy: 0.4313 - val_loss: 1.2784 - val_accuracy: 0.3658\n",
      "Epoch 4/10\n",
      "71/71 [==============================] - 71s 998ms/step - loss: 1.1780 - accuracy: 0.4344 - val_loss: 1.2285 - val_accuracy: 0.3842\n",
      "Epoch 5/10\n",
      "71/71 [==============================] - 73s 1s/step - loss: 1.1934 - accuracy: 0.4296 - val_loss: 1.2545 - val_accuracy: 0.3934\n",
      "Epoch 6/10\n",
      "71/71 [==============================] - 74s 1s/step - loss: 1.1867 - accuracy: 0.4344 - val_loss: 1.2576 - val_accuracy: 0.4375\n",
      "Epoch 7/10\n",
      "71/71 [==============================] - 74s 1s/step - loss: 1.1830 - accuracy: 0.4415 - val_loss: 1.2523 - val_accuracy: 0.4026\n",
      "Epoch 8/10\n",
      "71/71 [==============================] - 88s 1s/step - loss: 1.1940 - accuracy: 0.4247 - val_loss: 1.2963 - val_accuracy: 0.3787\n",
      "Epoch 9/10\n",
      "71/71 [==============================] - 92s 1s/step - loss: 1.1900 - accuracy: 0.4305 - val_loss: 1.2880 - val_accuracy: 0.3805\n",
      "Epoch 10/10\n",
      "71/71 [==============================] - 77s 1s/step - loss: 1.1705 - accuracy: 0.4464 - val_loss: 1.2725 - val_accuracy: 0.4154\n"
     ]
    }
   ],
   "source": [
    "# Train the model with data augmentation\n",
    "history_opt1 = loaded_model_opt1.fit(\n",
    "    train_data,\n",
    "    validation_data=val_data,\n",
    "    epochs=10,\n",
    "    steps_per_epoch=train_data.samples // BATCH_SIZE,\n",
    "    validation_steps=val_data.samples // BATCH_SIZE\n",
    ")"
   ]
  },
  {
   "cell_type": "code",
   "execution_count": 58,
   "id": "a19e0a9a-1624-43c4-a1d7-008c8e114db3",
   "metadata": {},
   "outputs": [
    {
     "name": "stderr",
     "output_type": "stream",
     "text": [
      "2024-10-27 18:35:45.444136: I tensorflow/core/common_runtime/executor.cc:1197] [/device:CPU:0] (DEBUG INFO) Executor start aborting (this does not indicate an error and you can ignore this message): INVALID_ARGUMENT: You must feed a value for placeholder tensor 'Placeholder/_0' with dtype int32\n",
      "\t [[{{node Placeholder/_0}}]]\n"
     ]
    },
    {
     "name": "stdout",
     "output_type": "stream",
     "text": [
      "13/13 [==============================] - 17s 1s/step - loss: 2.7681 - accuracy: 0.3452\n",
      "Test Loss: 2.768084764480591\n",
      "Test Accuracy: 34.52%\n"
     ]
    }
   ],
   "source": [
    "# Evaluate the model on the test data\n",
    "test_loss, test_acc = loaded_model_opt1.evaluate(test_data)\n",
    "\n",
    "print(f\"Test Loss: {test_loss}\")\n",
    "print(f\"Test Accuracy: {test_acc * 100:.2f}%\")"
   ]
  },
  {
   "cell_type": "code",
   "execution_count": 59,
   "id": "6b965ab8-ecb4-4662-aa76-d5774ac3313e",
   "metadata": {},
   "outputs": [
    {
     "name": "stderr",
     "output_type": "stream",
     "text": [
      "2024-10-27 18:38:18.665287: I tensorflow/core/common_runtime/executor.cc:1197] [/device:CPU:0] (DEBUG INFO) Executor start aborting (this does not indicate an error and you can ignore this message): INVALID_ARGUMENT: You must feed a value for placeholder tensor 'Placeholder/_0' with dtype int32\n",
      "\t [[{{node Placeholder/_0}}]]\n"
     ]
    },
    {
     "name": "stdout",
     "output_type": "stream",
     "text": [
      "13/13 [==============================] - 11s 768ms/step\n",
      "Classification Report\n",
      "                  precision    recall  f1-score   support\n",
      "\n",
      "    glioma_tumor       0.33      0.13      0.19       100\n",
      "meningioma_tumor       0.40      0.39      0.39       115\n",
      "        no_tumor       0.38      0.55      0.45       105\n",
      " pituitary_tumor       0.23      0.27      0.25        74\n",
      "\n",
      "        accuracy                           0.35       394\n",
      "       macro avg       0.33      0.34      0.32       394\n",
      "    weighted avg       0.34      0.35      0.33       394\n",
      "\n"
     ]
    }
   ],
   "source": [
    "# Predictions and classification report\n",
    "Y_pred = loaded_model_opt1.predict(test_data)\n",
    "y_pred = np.argmax(Y_pred, axis=1)\n",
    "\n",
    "print('Classification Report')\n",
    "print(classification_report(test_data.classes, y_pred, target_names=list(test_data.class_indices.keys())))"
   ]
  },
  {
   "cell_type": "code",
   "execution_count": 60,
   "id": "d8e575aa-0ca2-4f8b-b06d-c685c23c8f38",
   "metadata": {},
   "outputs": [
    {
     "data": {
      "image/png": "[encoded data removed]",
      "text/plain": [
       "<Figure size 1000x600 with 2 Axes>"
      ]
     },
     "metadata": {},
     "output_type": "display_data"
    }
   ],
   "source": [
    "# Plot accuracy and loss\n",
    "fig, ax = plt.subplots(1, 2, figsize=(10, 6))\n",
    "\n",
    "plt.subplot(1, 2, 1)\n",
    "plt.plot(history_opt1.history['accuracy'], label='Training Accuracy')\n",
    "plt.plot(history_opt1.history['val_accuracy'], label='Validation Accuracy')\n",
    "plt.xlabel('Epochs')\n",
    "plt.ylabel('Accuracy')\n",
    "plt.legend()\n",
    "plt.title('Accuracy Over Epochs')\n",
    "\n",
    "plt.subplot(1, 2, 2)\n",
    "plt.plot(history_opt1.history['loss'], label='Training Loss')\n",
    "plt.plot(history_opt1.history['val_loss'], label='Validation Loss')\n",
    "plt.xlabel('Epochs')\n",
    "plt.ylabel('Loss')\n",
    "plt.legend()\n",
    "plt.title('Loss Over Epochs')\n",
    "\n",
    "plt.tight_layout()\n",
    "plt.show()"
   ]
  },
  {
   "cell_type": "code",
   "execution_count": null,
   "id": "c28c5eae-a4f4-4641-9e74-4e1ee22a6b4f",
   "metadata": {},
   "outputs": [],
   "source": []
  }
 ],
 "metadata": {
  "kernelspec": {
   "display_name": "Python 3 (ipykernel)",
   "language": "python",
   "name": "python3"
  },
  "language_info": {
   "codemirror_mode": {
    "name": "ipython",
    "version": 3
   },
   "file_extension": ".py",
   "mimetype": "text/x-python",
   "name": "python",
   "nbconvert_exporter": "python",
   "pygments_lexer": "ipython3",
   "version": "3.10.13"
  }
 },
 "nbformat": 4,
 "nbformat_minor": 5
}
